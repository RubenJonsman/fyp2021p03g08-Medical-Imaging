{
 "cells": [
  {
   "cell_type": "markdown",
   "metadata": {},
   "source": [
    "# Required libraries"
   ]
  },
  {
   "cell_type": "code",
   "execution_count": null,
   "metadata": {},
   "outputs": [],
   "source": [
    "import numpy as np\n",
    "import matplotlib.pyplot as plt\n",
    "import pandas as pd\n",
    "%run -i ../scripts/fyp2021p3_group08_functions.py\n",
    "import math\n",
    "from skimage import transform\n",
    "from skimage import morphology\n",
    "import skimage\n",
    "import seaborn as sns"
   ]
  },
  {
   "cell_type": "markdown",
   "metadata": {},
   "source": [
    "## Loading in an image"
   ]
  },
  {
   "cell_type": "code",
   "execution_count": null,
   "metadata": {},
   "outputs": [],
   "source": [
    "im = plt.imread('../data/example_image/ISIC_0001769.jpg')\n",
    "seg = plt.imread('../data/example_segmentation/ISIC_0001769_segmentation.png')\n",
    "print(im.shape)\n",
    "plt.imshow(seg, cmap = \"gray\")"
   ]
  },
  {
   "cell_type": "code",
   "execution_count": null,
   "metadata": {},
   "outputs": [],
   "source": [
    "plt.imshow(im[:,:,1], cmap = \"gray\")"
   ]
  },
  {
   "cell_type": "markdown",
   "metadata": {},
   "source": [
    "# How many images are we dealing with"
   ]
  },
  {
   "cell_type": "code",
   "execution_count": null,
   "metadata": {},
   "outputs": [],
   "source": [
    "table = pd.read_csv(\"../data/example_ground_truth.csv\")\n",
    "table"
   ]
  },
  {
   "cell_type": "markdown",
   "metadata": {},
   "source": [
    "### Seperating melanoma, keratosis and healthy images"
   ]
  },
  {
   "cell_type": "code",
   "execution_count": null,
   "metadata": {},
   "outputs": [],
   "source": [
    "id_melanoma = table[\"image_id\"][table[\"melanoma\"] == 1.0]\n",
    "id_keratosis = table[\"image_id\"][table[\"seborrheic_keratosis\"] == 1.0]\n",
    "id_healthy = table[\"image_id\"][(table[\"melanoma\"] == 0.0) & (table[\"seborrheic_keratosis\"] == 0.0)]"
   ]
  },
  {
   "cell_type": "code",
   "execution_count": null,
   "metadata": {},
   "outputs": [],
   "source": [
    "print(len(id_keratosis))\n",
    "print(len(id_melanoma))\n",
    "print(len(id_healthy))"
   ]
  },
  {
   "cell_type": "markdown",
   "metadata": {},
   "source": [
    "### Showing pictures from the lists of either sick or healthy lesions"
   ]
  },
  {
   "cell_type": "code",
   "execution_count": null,
   "metadata": {},
   "outputs": [],
   "source": [
    "img3 = plt.imread(f'../data/example_image/{list(id_healthy)[60]}.jpg')\n",
    "#img3 = plt.imread(f'../data/example_image/ISIC_0015243.jpg')\n",
    "seg3 = plt.imread(f'../data/example_segmentation/{list(id_healthy)[60]}_segmentation.png')\n",
    "#seg3 = plt.imread(f'../data/example_segmentation/ISIC_0015243_segmentation.png')\n",
    "fig, axes = plt.subplots(nrows=1, ncols=2, figsize=(20, 15))\n",
    "axes[0].imshow(img3)\n",
    "axes[1].imshow(seg3, cmap='gray')"
   ]
  },
  {
   "cell_type": "markdown",
   "metadata": {},
   "source": [
    "## Zooming in on the lesion"
   ]
  },
  {
   "cell_type": "code",
   "execution_count": null,
   "metadata": {},
   "outputs": [],
   "source": [
    "def crop_to_lesion(picture, segment):\n",
    "    \"\"\"\n",
    "    \"Zooms\" in on the lesion, meaning it cuts away everything else\n",
    "    \n",
    "    Takes a picture and it's corresponding mask/segment\n",
    "    Returns the picture and the segment, cropped to only the lesion \n",
    "    \"\"\"\n",
    "    \n",
    "    height = segment.shape[0]\n",
    "    width = segment.shape[1]\n",
    "       \n",
    "    img_df = pd.DataFrame(segment)    \n",
    "    \n",
    "    x_1 = x_2 = 0\n",
    "    y_1 = y_ = 0\n",
    "    \n",
    "    #Iterating over all the columns finding the first column that has a white pixel\n",
    "    for i in range(width):\n",
    "        if list(img_df[i]).count(1.0) > 0:\n",
    "            x_1 = i\n",
    "            break\n",
    "        else:\n",
    "            continue\n",
    "            \n",
    "    #Iterating over all the columns backwards finding the first column that has a white pixel\n",
    "    for i in range(width):\n",
    "        if list(img_df[(width-1) - i]).count(1.0) > 0:\n",
    "            x_2 = ((width-1) - i)\n",
    "            break\n",
    "        else:\n",
    "            continue   \n",
    "    \n",
    "    \n",
    "    #Iterating over all the rows finding the first row that has a white pixel\n",
    "    for i in range(height):\n",
    "        if list(img_df.loc[i]).count(1.0) > 0:\n",
    "            y_1 = i\n",
    "            break\n",
    "        else:\n",
    "            continue   \n",
    "    \n",
    "    #Iterating over all the rows backwards finding the first row that has a white pixel\n",
    "    for i in range(height):\n",
    "        if list(img_df.loc[(height-1) - i]).count(1.0) > 0:\n",
    "            y_2 = ((height-1) - i)\n",
    "            break\n",
    "        else:\n",
    "            continue\n",
    "    \n",
    "    img_part = picture[y_1:y_2,x_1:x_2]\n",
    "    segment_part = segment[y_1:y_2,x_1:x_2]\n",
    "    \n",
    "    return (img_part, segment_part)"
   ]
  },
  {
   "cell_type": "code",
   "execution_count": null,
   "metadata": {},
   "outputs": [],
   "source": [
    "img3 = plt.imread(f'../data/example_image/{list(id_healthy)[50]}.jpg')\n",
    "seg3 = plt.imread(f'../data/example_segmentation/{list(id_healthy)[50]}_segmentation.png')\n",
    "cropped_img, cropped_seg = crop_to_lesion(img3, seg3)\n",
    "fig, axes = plt.subplots(nrows=1, ncols=2, figsize=(20, 15))\n",
    "axes[0].imshow(cropped_img)\n",
    "axes[1].imshow(cropped_seg, cmap='gray')"
   ]
  },
  {
   "cell_type": "markdown",
   "metadata": {},
   "source": [
    "## Manipulating the picture"
   ]
  },
  {
   "cell_type": "code",
   "execution_count": null,
   "metadata": {},
   "outputs": [],
   "source": [
    "def length(cropped_picture, xy1, xy2):\n",
    "    \"\"\"\n",
    "    Calculates the length between two coordinates that is on the lesion. (Pythagoras)\n",
    "    \n",
    "    Takes a cropped picture and to coordinate sets\n",
    "    Returns the length between the two given coordinates if they lie on the lesion\n",
    "    \"\"\"\n",
    "    \n",
    "    img_np = np.array(cropped_picture)\n",
    "    \n",
    "    if img_np[xy1] == 1.0 and img_np[xy2] == 1.0:\n",
    "        length = xy2[1] - xy1[1]\n",
    "        width = xy2[0] - xy1[0]\n",
    "        return (length**2+width**2)**0.5\n",
    "    else:\n",
    "        return \"Insert valid coordinates on the leisure\"\n",
    "    \n",
    "length(cropped_seg, (300,100), (400,200))"
   ]
  },
  {
   "cell_type": "code",
   "execution_count": null,
   "metadata": {},
   "outputs": [],
   "source": [
    "def edge_points(segment):\n",
    "    \"\"\"\n",
    "    Finds all the coordinates to the points which lie on the edge of the lesion. \n",
    "    It creates an identical image to the segment only one pixel smaller. We then subtract the segment \n",
    "    with the smaller segment and we are left with only the border\n",
    "    \n",
    "    Takes a segment\n",
    "    Returns coordinates to all the edge points\n",
    "    \n",
    "    \"\"\"\n",
    "    struct_el = morphology.disk(1)\n",
    "    mask_eroded = morphology.binary_erosion(segment, struct_el)\n",
    "    image_perimeter = segment - mask_eroded\n",
    "    \n",
    "    height = segment.shape[0]\n",
    "    width = segment.shape[1]\n",
    "    \n",
    "    perimeter_df = pd.DataFrame(image_perimeter)\n",
    "    \n",
    "    coords = []\n",
    "    \n",
    "    for i in range(width):\n",
    "        for val, j in zip(perimeter_df[i], range(len(perimeter_df[i]))):\n",
    "            if val == 1.0:\n",
    "                coords.append((i,j))\n",
    "                \n",
    "    return coords"
   ]
  },
  {
   "cell_type": "code",
   "execution_count": null,
   "metadata": {},
   "outputs": [],
   "source": [
    "def rescale_img(segment, scale):\n",
    "    \"\"\"\n",
    "    Rescales an image so it has the width of the scale\n",
    "    \n",
    "    Takes a segment/mask\n",
    "    Returns the segment/mask rescaled to have the width of the scale\n",
    "    \"\"\"\n",
    "    \n",
    "    width = segment.shape[1]\n",
    "        \n",
    "    cut_rescaled_segment = skimage.transform.rescale(segment, scale/width, anti_aliasing=False)\n",
    "    \n",
    "    return cut_rescaled_segment"
   ]
  },
  {
   "cell_type": "code",
   "execution_count": null,
   "metadata": {},
   "outputs": [],
   "source": [
    "def longest_diameter(segment):\n",
    "    \"\"\"\n",
    "    Calculates the longest distance among all the edge points. Takes quadratic time since it has to calculate the distance\n",
    "    from all the coordinates to all the coordinates.\n",
    "    \n",
    "    Takes a segment\n",
    "    Returns the longest distance, and the two coordinates that makes the longest distance\n",
    "    \"\"\"\n",
    "    edge_coords = edge_points(segment)\n",
    "    dist = {}\n",
    "    \n",
    "    for coord, i in zip(range(len(edge_coords)),edge_coords):\n",
    "        dist.update({coord:[]})\n",
    "        for coord2,j in zip(range(len(edge_coords)),edge_coords):\n",
    "            length = edge_coords[coord][1] - edge_coords[coord2][1]\n",
    "            width = edge_coords[coord][0] - edge_coords[coord2][0]\n",
    "            dist[coord].append(((round(((length**2+width**2)**0.5),2)),(i,j)))\n",
    "            \n",
    "    #creates a list of only the longest coordinate pair for every coordinate\n",
    "    coordinates_max = [max(dist[key]) for key in dist]\n",
    "    #Returns only the max of the list\n",
    "    return max(coordinates_max)"
   ]
  },
  {
   "cell_type": "code",
   "execution_count": null,
   "metadata": {},
   "outputs": [],
   "source": [
    "def show_longest_diameter(img, segment): #currently not working\n",
    "    cropped_img = rescale_img(img, 500)\n",
    "    max_dia = longest_diameter(segment)\n",
    "    x = [max_dia[1][0][0], max_dia[1][1][0]]\n",
    "    y = [max_dia[1][0][1], max_dia[1][1][1]]\n",
    "    fig, axes = plt.subplots(nrows=1, ncols=2, figsize=(20, 15))\n",
    "    axes[0].imshow(cropped_img)\n",
    "    axes[0].plot(x, y, color=\"red\", linewidth=1)\n",
    "    axes[1].imshow(cropped_segment, cmap='gray')\n",
    "    axes[1].plot(x, y, color=\"red\", linewidth=1)\n",
    "    return fig\n",
    "    #return (plt.imshow(cropped_img, cmap= \"gray\" ), plt.imshow(cropped_segment, cmap= \"gray\" ))"
   ]
  },
  {
   "cell_type": "markdown",
   "metadata": {},
   "source": [
    "### Test"
   ]
  },
  {
   "cell_type": "code",
   "execution_count": null,
   "metadata": {},
   "outputs": [],
   "source": [
    "scaled_img = rescale_img(seg3, 500)\n",
    "longest_diameter(scaled_img)"
   ]
  },
  {
   "cell_type": "code",
   "execution_count": null,
   "metadata": {},
   "outputs": [],
   "source": [
    "img3 = plt.imread(f'../data/example_image/{list(id_melanoma)[23]}.jpg')\n",
    "#img3 = plt.imread(f'../data/example_image/ISIC_0015243.jpg')\n",
    "seg3 = plt.imread(f'../data/example_segmentation/{list(id_melanoma)[23]}_segmentation.png')\n",
    "#seg3 = plt.imread(f'../data/example_segmentation/ISIC_0015243_segmentation.png')\n",
    "fig, axes = plt.subplots(nrows=1, ncols=2, figsize=(20, 15))\n",
    "axes[0].imshow(img3)\n",
    "axes[1].imshow(seg3, cmap='gray')"
   ]
  },
  {
   "cell_type": "markdown",
   "metadata": {},
   "source": [
    "# Getting a feature"
   ]
  },
  {
   "cell_type": "markdown",
   "metadata": {},
   "source": [
    "## Compactness"
   ]
  },
  {
   "cell_type": "code",
   "execution_count": null,
   "metadata": {},
   "outputs": [],
   "source": [
    "def compactness(segment):\n",
    "    \"\"\"\n",
    "    Calculates the compactness of a lesion\n",
    "    \"\"\"\n",
    "    A, l = measure_area_perimeter(segment)\n",
    "    C = l**2/(4*3.14159*A)\n",
    "    return C"
   ]
  },
  {
   "cell_type": "code",
   "execution_count": null,
   "metadata": {},
   "outputs": [],
   "source": [
    "# #Calculates the compactness for all the \n",
    "\n",
    "# melanoma = [[],[]]\n",
    "# not_melanoma = [[],[]]\n",
    "\n",
    "# for i in range(len(id_melanoma)):\n",
    "#     seg = plt.imread(f'../data/example_segmentation/{list(id_melanoma)[i]}_segmentation.png')\n",
    "#     A, l = measure_area_perimeter(seg)\n",
    "#     melanoma[0].append(A)\n",
    "#     melanoma[1].append(l)\n",
    "    \n",
    "# for i in range(len(id_healthy)):\n",
    "#     seg = plt.imread(f'../data/example_segmentation/{list(id_healthy)[i]}_segmentation.png')\n",
    "#     A, l = measure_area_perimeter(seg)\n",
    "#     not_melanoma[0].append(A)\n",
    "#     not_melanoma[1].append(l)\n",
    "    \n",
    "# print(melanoma, not_melanoma)"
   ]
  },
  {
   "cell_type": "code",
   "execution_count": null,
   "metadata": {},
   "outputs": [],
   "source": [
    "fig=plt.figure()\n",
    "ax=fig.add_axes([0,0,1,1])\n",
    "ax.scatter(melanoma[0], melanoma[1], color='r')\n",
    "ax.scatter(not_melanoma[0], not_melanoma[1], color='b')\n",
    "ax.set_xlabel('Area')\n",
    "ax.set_ylabel('Perimiter')\n",
    "ax.set_title('scatter plot')\n",
    "plt.show()"
   ]
  },
  {
   "cell_type": "markdown",
   "metadata": {},
   "source": [
    "## Symmetry"
   ]
  },
  {
   "cell_type": "code",
   "execution_count": null,
   "metadata": {},
   "outputs": [],
   "source": [
    "def tilt_image(segment):\n",
    "    \"\"\"\n",
    "    Rotates a segment so it's longest diameter is vertical\n",
    "    Takes a long time if run with a normal picture that has not been rescaled.\n",
    "    \n",
    "    Takes a segment\n",
    "    Returns the segment so it is vertical\n",
    "    \"\"\"\n",
    "    length, coord = longest_diameter(segment)\n",
    "    xy1 = coord[0]\n",
    "    xy2 = coord[1]\n",
    "    \n",
    "    v1 = (xy2[0]-xy1[0], xy2[1]-xy1[1])\n",
    "    v2 = (0,100)\n",
    "    \n",
    "    angel = 180-math.degrees(math.acos((v1[0]*v2[0]+v1[1]*v2[1])/(math.sqrt(v1[0]**2+v1[1]**2)*math.sqrt(v2[0]**2+v2[1]**2))))                       \n",
    "\n",
    "    rot_im = transform.rotate(segment, 360-angel)\n",
    "    #plt.imshow(rot_im, cmap='gray')\n",
    "    return rot_im"
   ]
  },
  {
   "cell_type": "code",
   "execution_count": null,
   "metadata": {},
   "outputs": [],
   "source": [
    "#Calls the tilt_img with a picture that has been rescaled, and then that picture gets cropped to the lesion only\n",
    "plt.imshow(dim_of_mark(img3, tilt_image(rescale_img(seg3, 500)))[1], cmap = \"gray\")"
   ]
  },
  {
   "cell_type": "code",
   "execution_count": null,
   "metadata": {},
   "outputs": [],
   "source": [
    "def symmetric(seg):\n",
    "    \"\"\"\n",
    "    Calculates how \"symmetric\" a segment is. It flips the picture 180 degrees mirrors it and the subtracts\n",
    "    it from the original. This is done both vertically and horisontally. The closer to 1 the return value is, the more\n",
    "    symmetric the lesion is\n",
    "    \n",
    "    Takes a segment\n",
    "    Returns the vertical and horisontal symmetry (between 0 and 1)\n",
    "    \"\"\"\n",
    "    \n",
    "    rescaled_img = rescale_img(seg, 500)\n",
    "    tilted_img = tilt_image(rescaled_img)\n",
    "    vertical_seg = crop_to_lesion(seg, tilted_img)[1]\n",
    "    \n",
    "    #Vertical difference    \n",
    "    vertical_rot_180 = transform.rotate(vertical_seg, 180)\n",
    "    vertical_flip = vertical_rot_180[:, ::-1]\n",
    "    \n",
    "    vertical_asymmetric_pixels = vertical_seg - vertical_flip\n",
    "    \n",
    "    white = len(vertical_asymmetric_pixels[vertical_asymmetric_pixels == 1.0])\n",
    "    black = len(vertical_asymmetric_pixels[vertical_asymmetric_pixels == -1.0])\n",
    "    vertical_asymmetry = black+white\n",
    "    \n",
    "#     #Plot the difference\n",
    "#     fig, axes = plt.subplots(nrows=1, ncols=3, figsize=(20, 15))\n",
    "#     axes[0].imshow(vertical_seg, cmap = \"gray\")\n",
    "#     axes[1].imshow(vertical_flip, cmap='gray')\n",
    "#     axes[2].imshow(vertical_asymmetric_pixels, cmap = \"gray\")\n",
    "    \n",
    "    #Horisontal difference\n",
    "    rot_90 = transform.rotate(tilted_img, 90) \n",
    "    rescaled_seg = crop_to_lesion(seg, rot_90)[1]   \n",
    "    rot_180 = transform.rotate(rescaled_seg, 180)\n",
    "    \n",
    "    flip = rot_180[:, ::-1]\n",
    "    \n",
    "    asymmetric_pixels = rescaled_seg - flip\n",
    "    \n",
    "    white = len(asymmetric_pixels[asymmetric_pixels == 1.0])\n",
    "    black = len(asymmetric_pixels[asymmetric_pixels == -1.0])\n",
    "    horisontal_asymmetry = black+white\n",
    "        \n",
    "#     #Plot the difference\n",
    "#     fig, axes = plt.subplots(nrows=1, ncols=3, figsize=(20, 15))\n",
    "#     axes[0].imshow(rescaled_seg, cmap = \"gray\")\n",
    "#     axes[1].imshow(flip, cmap='gray')\n",
    "#     axes[2].imshow(asymmetric_pixels, cmap = \"gray\")\n",
    "    \n",
    "    total = len(vertical_seg[vertical_seg == 1.0])\n",
    "    \n",
    "    #Checks for negative values\n",
    "    vertical_symmetry = 1 - (vertical_asymmetry/total)\n",
    "    if vertical_symmetry < 0:\n",
    "        vertical_symmetry = vertical_symmetry*(-1)\n",
    "    \n",
    "    horisontal_symmetry = 1 - (horisontal_asymmetry/total)\n",
    "    if horisontal_symmetry < 0:\n",
    "        horisontal_symmetry = horisontal_symmetry*(-1)\n",
    "    \n",
    "    return (vertical_symmetry, horisontal_symmetry)"
   ]
  },
  {
   "cell_type": "code",
   "execution_count": null,
   "metadata": {},
   "outputs": [],
   "source": [
    "asy = symmetric(seg3)\n",
    "print(asy)"
   ]
  },
  {
   "cell_type": "code",
   "execution_count": null,
   "metadata": {},
   "outputs": [],
   "source": [
    "# #Runs through all lesions with melanoma and alll healthy lesion and calculates their symmetry, takes 1 sec per picture -ish\n",
    "# sym_melanoma = [[],[]]\n",
    "# sym_not_melanoma = [[],[]]\n",
    "\n",
    "# for i in range(len(id_melanoma)):\n",
    "#     seg = plt.imread(f'../data/example_segmentation/{list(id_melanoma)[i]}_segmentation.png')\n",
    "#     V, H = symmetric(seg)\n",
    "#     sym_melanoma[0].append(V)\n",
    "#     sym_melanoma[1].append(H)\n",
    "    \n",
    "# for i in range(len(id_healthy)):\n",
    "#     seg = plt.imread(f'../data/example_segmentation/{list(id_healthy)[i]}_segmentation.png')\n",
    "#     V, H = symmetric(seg)\n",
    "#     sym_not_melanoma[0].append(V)\n",
    "#     sym_not_melanoma[1].append(H)"
   ]
  },
  {
   "cell_type": "code",
   "execution_count": null,
   "metadata": {},
   "outputs": [],
   "source": [
    "fig=plt.figure()\n",
    "ax=fig.add_axes([0,0,1,1])\n",
    "ax.scatter(sym_melanoma[0], sym_melanoma[1], color='r')\n",
    "ax.scatter(np.mean(sym_melanoma[0]), np.mean(sym_melanoma[1]), color='orange')\n",
    "ax.scatter(sym_not_melanoma[0], sym_not_melanoma[1], color='b')\n",
    "ax.scatter(np.mean(sym_not_melanoma[0]), np.mean(sym_not_melanoma[1]), color='green')\n",
    "ax.set_xlabel('Vertical')\n",
    "ax.set_ylabel('Horisontal')\n",
    "ax.set_title('scatter plot')\n",
    "plt.show()"
   ]
  },
  {
   "cell_type": "code",
   "execution_count": null,
   "metadata": {},
   "outputs": [],
   "source": [
    "print(np.mean(sym_melanoma[0]), np.mean(sym_melanoma[1]))\n",
    "print(np.mean(sym_not_melanoma[0]), np.mean(sym_not_melanoma[1]))"
   ]
  },
  {
   "cell_type": "markdown",
   "metadata": {},
   "source": [
    "# Loading MORE data"
   ]
  },
  {
   "cell_type": "code",
   "execution_count": null,
   "metadata": {},
   "outputs": [],
   "source": [
    "#local path to the 2017 data set\n",
    "path_img = \"../../../../../../documents/2017/ISIC-2017_Training_Data/ISIC-2017_Training_Data/\"\n",
    "path_segment = \"../../../../../../documents/2017/ISIC-2017_Training_Part1_GroundTruth/ISIC-2017_Training_Part1_GroundTruth/\"\n",
    "\n",
    "table_2017 = pd.read_csv(\"../../../../../../documents/2017/ISIC-2017_Training_Part3_GroundTruth.csv\")"
   ]
  },
  {
   "cell_type": "code",
   "execution_count": null,
   "metadata": {},
   "outputs": [],
   "source": [
    "melanoma_2017 = list(table_2017[\"image_id\"][table_2017[\"melanoma\"] == 1.0])\n",
    "healthy_2017 = list(table_2017[\"image_id\"][(table_2017[\"melanoma\"] == 0.0) & (table_2017[\"seborrheic_keratosis\"] == 0.0)])\n",
    "print(len(melanoma_2017),len(healthy_2017))"
   ]
  },
  {
   "cell_type": "code",
   "execution_count": null,
   "metadata": {},
   "outputs": [],
   "source": [
    "img = plt.imread(f\"{path_img}{melanoma_2017[100]}.jpg\")\n",
    "seg = plt.imread(f\"{path_segment}{melanoma_2017[100]}_segmentation.png\")\n",
    "fig, axes = plt.subplots(nrows=1, ncols=2, figsize=(20, 15))\n",
    "axes[0].imshow(img)\n",
    "axes[1].imshow(seg, cmap='gray')"
   ]
  },
  {
   "cell_type": "markdown",
   "metadata": {},
   "source": [
    "### Going through the whole 2017 data set (Has already been done, don't run this code again)"
   ]
  },
  {
   "cell_type": "code",
   "execution_count": null,
   "metadata": {},
   "outputs": [],
   "source": [
    "# symmetry_melanoma = [[],[]]\n",
    "# symmetry_healthy = [[],[]]\n",
    "\n",
    "# for i in range(len(melanoma_2017)):\n",
    "#     seg = plt.imread(f\"{path_segment}{melanoma_2017[i]}_segmentation.png\")\n",
    "#     V, H = symmetric(seg)\n",
    "#     symmetry_melanoma[0].append(V)\n",
    "#     symmetry_melanoma[1].append(H)\n",
    "    \n",
    "# for i in range(len(healthy_2017)):\n",
    "#     seg = plt.imread(f\"{path_segment}{healthy_2017[i]}_segmentation.png\")\n",
    "#     V, H = symmetric(seg)\n",
    "#     symmetry_healthy[0].append(V)\n",
    "#     symmetry_healthy[1].append(H)"
   ]
  },
  {
   "cell_type": "code",
   "execution_count": null,
   "metadata": {},
   "outputs": [],
   "source": [
    "fig=plt.figure()\n",
    "ax=fig.add_axes([0,0,1,1])\n",
    "ax.scatter(symmetry_healthy[0], symmetry_healthy[1], color='b')\n",
    "ax.scatter(symmetry_melanoma[0], symmetry_melanoma[1], color='r')\n",
    "ax.scatter(np.mean(symmetry_melanoma[0]), np.mean(symmetry_melanoma[1]), color='orange')\n",
    "ax.scatter(np.mean(symmetry_healthy[0]), np.mean(symmetry_healthy[1]), color='green')\n",
    "ax.set_xlabel('Vertical')\n",
    "ax.set_ylabel('Horisontal')\n",
    "ax.set_title('scatter plot')\n",
    "plt.savefig(\"../figures/scatter_symmetry\")\n",
    "plt.show()"
   ]
  },
  {
   "cell_type": "code",
   "execution_count": null,
   "metadata": {},
   "outputs": [],
   "source": [
    "big_table = pd.read_csv(\"../data/processed/final_balanced.csv\")\n",
    "#big_table = big_table.drop(\"seborrheic_keratosis\", axis = 1)\n",
    "#big_table = big_table.drop(\"Unnamed: 0\", axis = 1)\n",
    "#big_table[\"symmetry\"] = (big_table[\"vertical_symmetry\"]+big_table[\"horisontal_symmetry\"])/2\n",
    "#big_table = big_table.rename(columns = {\"diagosis_sum\": \"diagnosis_sum\"})\n",
    "big_table"
   ]
  },
  {
   "cell_type": "code",
   "execution_count": null,
   "metadata": {},
   "outputs": [],
   "source": [
    "tablei = pd.read_csv(\"../data/sym_col.csv\")\n",
    "train = tablei[0:int(len(tablei)/3)]\n",
    "test = tablei[int(len(tablei)/3):int(len(tablei)/3)*2]\n",
    "val = tablei[int(len(tablei)/3)*2:int(len(tablei)/3)*3]\n",
    "tablei.columns"
   ]
  },
  {
   "cell_type": "code",
   "execution_count": null,
   "metadata": {},
   "outputs": [],
   "source": [
    "#big_table.to_csv('../data/melanoma_healthy_sym.csv', index=False)"
   ]
  },
  {
   "cell_type": "markdown",
   "metadata": {},
   "source": [
    "# Classifiers\n",
    "### Splitting the dataset"
   ]
  },
  {
   "cell_type": "markdown",
   "metadata": {},
   "source": [
    "We split the dataset into three sets of equal length. It is split up into a training set, a test set and a verification set. The verification set will not be touched untill we are done with our research"
   ]
  },
  {
   "cell_type": "code",
   "execution_count": null,
   "metadata": {},
   "outputs": [],
   "source": [
    "#Id's for the melanoma lesions\n",
    "train_id = melanoma_2017[0:int(round(len(melanoma_2017)/3, 0))]\n",
    "test_id = melanoma_2017[int(round(len(melanoma_2017)/3, 0)):int(round(len(melanoma_2017)/3, 0)*2)]\n",
    "ver_id = melanoma_2017[int(round(len(melanoma_2017)/3, 0)*2):int((round(len(melanoma_2017)/3, 0)*3))-1]\n",
    "\n",
    "#Creating the data frames for each melanoma set\n",
    "train_melanoma = big_table[np.isin(big_table, train_id)]\n",
    "test_melanoma = big_table[np.isin(big_table, test_id)]\n",
    "ver_melanoma = big_table[np.isin(big_table, ver_id)]\n",
    "\n",
    "\n",
    "#Id's for the healthy lesions\n",
    "train_healthy_id = healthy_2017[0:int(round(len(healthy_2017)/3, 0))]\n",
    "test_healthy_id = healthy_2017[int(round(len(healthy_2017)/3, 0)):int(round(len(healthy_2017)/3, 0)*2)]\n",
    "ver_healthy_id = healthy_2017[int(round(len(healthy_2017)/3, 0)*2):int((round(len(healthy_2017)/3, 0)*3))-1]\n",
    "\n",
    "#Creating the data frames for each healthy set\n",
    "train_healthy = big_table[np.isin(big_table, train_healthy_id)]\n",
    "test_healthy = big_table[np.isin(big_table, test_healthy_id)]\n",
    "ver_healthy = big_table[np.isin(big_table, ver_healthy_id)]\n",
    "\n",
    "\n",
    "#concat the dataframes\n",
    "train = pd.concat([train_melanoma, train_healthy])\n",
    "test = pd.concat([test_melanoma, test_healthy])\n",
    "ver = pd.concat([ver_melanoma, ver_healthy])"
   ]
  },
  {
   "cell_type": "code",
   "execution_count": null,
   "metadata": {},
   "outputs": [],
   "source": [
    "train"
   ]
  },
  {
   "cell_type": "markdown",
   "metadata": {},
   "source": [
    "## Plotting the differences"
   ]
  },
  {
   "cell_type": "markdown",
   "metadata": {},
   "source": [
    "### Plotting the area to the perimeter (compactness)"
   ]
  },
  {
   "cell_type": "code",
   "execution_count": null,
   "metadata": {},
   "outputs": [],
   "source": [
    "fig, ax = plt.subplots(nrows=1, ncols=2, figsize=(20, 8))\n",
    "ax[0].scatter(train_healthy[\"area\"], train_healthy[\"perimeter\"], color='b')\n",
    "ax[0].scatter(train_melanoma[\"area\"], train_melanoma[\"perimeter\"], color='r')\n",
    "ax[0].scatter(np.mean(train_healthy[\"area\"]), np.mean(train_healthy[\"perimeter\"]), color='green')\n",
    "ax[0].scatter(np.mean(train_melanoma[\"area\"]), np.mean(train_melanoma[\"perimeter\"]), color='orange')\n",
    "ax[0].set_xlabel('Area')\n",
    "ax[0].set_ylabel(\"Perimeter\")\n",
    "ax[0].set_title('scatter plot train')\n",
    "\n",
    "ax[1].scatter(test_healthy[\"area\"], test_healthy[\"perimeter\"], color='b')\n",
    "ax[1].scatter(test_melanoma[\"area\"], test_melanoma[\"perimeter\"], color='r')\n",
    "ax[1].scatter(np.mean(test_healthy[\"area\"]), np.mean(test_healthy[\"perimeter\"]), color='green')\n",
    "ax[1].scatter(np.mean(test_melanoma[\"area\"]), np.mean(test_melanoma[\"perimeter\"]), color='orange')\n",
    "ax[1].set_xlabel('Area')\n",
    "ax[1].set_ylabel(\"Perimeter\")\n",
    "ax[1].set_title('scatter plot test')\n",
    "plt.show()"
   ]
  },
  {
   "cell_type": "code",
   "execution_count": null,
   "metadata": {},
   "outputs": [],
   "source": [
    "sns.displot(list(big_table[\"symmetry\"]), hue = list(big_table[\"diagnosis_sum\"]) ,kind = \"kde\")"
   ]
  },
  {
   "cell_type": "code",
   "execution_count": null,
   "metadata": {},
   "outputs": [],
   "source": [
    "#sns.scatterplot(data = tablei, x = \"relative_color_variance\", y= \"average_std\", hue = \"diagnosis_sum\")\n",
    "sns.scatterplot(data = tablei, x = \"vertical_symmetry\", y= \"horisontal_symmetry\", hue = \"diagnosis_sum\")"
   ]
  },
  {
   "cell_type": "markdown",
   "metadata": {},
   "source": [
    "### Plotting the vertical symmetry to the horisontal symmetry (symmetry)"
   ]
  },
  {
   "cell_type": "code",
   "execution_count": null,
   "metadata": {},
   "outputs": [],
   "source": [
    "fig, ax = plt.subplots(nrows=1, ncols=2, figsize=(20, 8))\n",
    "ax[0].scatter(train_healthy[\"vertical_symmetry\"], train_healthy[\"horisontal_symmetry\"], color='b')\n",
    "ax[0].scatter(train_melanoma[\"vertical_symmetry\"], train_melanoma[\"horisontal_symmetry\"], color='r')\n",
    "ax[0].scatter(np.mean(train_healthy[\"vertical_symmetry\"]), np.mean(train_healthy[\"horisontal_symmetry\"]), color='green')\n",
    "ax[0].scatter(np.mean(train_melanoma[\"vertical_symmetry\"]), np.mean(train_melanoma[\"horisontal_symmetry\"]), color='orange')\n",
    "ax[0].set_xlabel('Veritcal')\n",
    "ax[0].set_ylabel(\"Horisontal\")\n",
    "ax[0].set_title('scatter plot train')\n",
    "\n",
    "ax[1].scatter(test_healthy[\"vertical_symmetry\"], test_healthy[\"horisontal_symmetry\"], color='b')\n",
    "ax[1].scatter(test_melanoma[\"vertical_symmetry\"], test_melanoma[\"horisontal_symmetry\"], color='r')\n",
    "ax[1].scatter(np.mean(test_healthy[\"vertical_symmetry\"]), np.mean(test_healthy[\"horisontal_symmetry\"]), color='green')\n",
    "ax[1].scatter(np.mean(test_melanoma[\"vertical_symmetry\"]), np.mean(test_melanoma[\"horisontal_symmetry\"]), color='orange')\n",
    "ax[1].set_xlabel(\"Vertical\")\n",
    "ax[1].set_ylabel(\"Horisontal\")\n",
    "ax[1].set_title('scatter plot test')\n",
    "plt.show()"
   ]
  },
  {
   "cell_type": "markdown",
   "metadata": {},
   "source": [
    "### Plotting compactness to symmetry"
   ]
  },
  {
   "cell_type": "code",
   "execution_count": null,
   "metadata": {},
   "outputs": [],
   "source": [
    "fig, ax = plt.subplots(nrows=1, ncols=2, figsize=(20, 8))\n",
    "ax[0].scatter(train_healthy[\"symmetry\"], train_healthy[\"compactness\"], color='b')\n",
    "ax[0].scatter(train_melanoma[\"symmetry\"], train_melanoma[\"compactness\"], color='r')\n",
    "ax[0].scatter(np.mean(train_healthy[\"symmetry\"]), np.mean(train_healthy[\"compactness\"]), color='green')\n",
    "ax[0].scatter(np.mean(train_melanoma[\"symmetry\"]), np.mean(train_melanoma[\"compactness\"]), color='orange')\n",
    "ax[0].set_xlabel('Symmetry')\n",
    "ax[0].set_ylabel(\"Compactness\")\n",
    "ax[0].set_title('scatter plot train')\n",
    "\n",
    "ax[1].scatter(test_healthy[\"symmetry\"], test_healthy[\"compactness\"], color='b')\n",
    "ax[1].scatter(test_melanoma[\"symmetry\"], test_melanoma[\"compactness\"], color='r')\n",
    "ax[1].scatter(np.mean(test_healthy[\"symmetry\"]), np.mean(test_healthy[\"compactness\"]), color='green')\n",
    "ax[1].scatter(np.mean(test_melanoma[\"symmetry\"]), np.mean(test_melanoma[\"compactness\"]), color='orange')\n",
    "ax[1].set_xlabel(\"Symmetry\")\n",
    "ax[1].set_ylabel(\"Compactness\")\n",
    "ax[1].set_title('scatter plot test')\n",
    "plt.show()"
   ]
  },
  {
   "cell_type": "markdown",
   "metadata": {},
   "source": [
    "## Nearest mean classifier"
   ]
  },
  {
   "cell_type": "code",
   "execution_count": null,
   "metadata": {},
   "outputs": [],
   "source": [
    "def nearest_mean(data, feature):\n",
    "    #Defining the mean from the training set\n",
    "    comp_mean_mel = np.mean(train_melanoma[\"compactness\"])\n",
    "    sym_mean_mel = np.mean(train_melanoma[\"symmetry\"])\n",
    "\n",
    "    comp_mean_hel = np.mean(train_healthy[\"compactness\"])\n",
    "    sym_mean_hel = np.mean(train_healthy[\"symmetry\"])\n",
    "    \n",
    "    ids = data[\"image_id\"]\n",
    "    \n",
    "    #Keep track of errors\n",
    "    correct = 0\n",
    "    fails = 0\n",
    "    total = len(data[\"image_id\"])\n",
    "    \n",
    "    #print(df[\"diagosis_sum\"])\n",
    "    \n",
    "    #For every lesion in the test set label it as having melanoma or not\n",
    "    for idd in ids:\n",
    "        #Take the information about the compactness and the symmetry\n",
    "        C = float(data[\"compactness\"][data[\"image_id\"] == idd])\n",
    "        sym = float(data[\"symmetry\"][data[\"image_id\"] == idd])\n",
    "        \n",
    "        if feature == \"all\":\n",
    "            #Calculate the distance to the mean of both melanoma and healthy\n",
    "            dist_mel = math.sqrt((comp_mean_mel - C)**2+(sym_mean_mel - sym)**2)\n",
    "            dist_hel = math.sqrt((comp_mean_hel - C)**2+(sym_mean_hel - sym)**2)\n",
    "        \n",
    "        elif feature == \"symmetry\":\n",
    "            dist_mel = abs(sym_mean_mel - sym)\n",
    "            dist_hel = abs(sym_mean_hel - sym)\n",
    "        \n",
    "        elif feature == \"compactness\":\n",
    "            dist_mel = abs(comp_mean_mel - C)\n",
    "            dist_hel = abs(comp_mean_hel - C)\n",
    "        \n",
    "        #Get the actual diagnosis\n",
    "        di = str(data[\"diagnosis_sum\"][data[\"image_id\"] == idd]).split()[1:-4]\n",
    "        try:\n",
    "            diagnosis = di[0]+\" \"+di[1]\n",
    "        except:\n",
    "            diagnosis = di[0]\n",
    "        \n",
    "        #Check if our labeling is correct\n",
    "        if dist_mel > dist_hel:\n",
    "            if diagnosis == \"cancerous\":\n",
    "                correct += 1\n",
    "            else:\n",
    "                fails += 1\n",
    "        else:\n",
    "            if diagnosis == \"not cancerous\":\n",
    "                correct += 1\n",
    "            else:\n",
    "                fails += 1\n",
    "    \n",
    "    print(feature, \"correct \", correct/total)\n",
    "    print(feature, \"fails:\", fails/total)"
   ]
  },
  {
   "cell_type": "code",
   "execution_count": null,
   "metadata": {},
   "outputs": [],
   "source": [
    "for i in [\"symmetry\", \"compactness\", \"all\"]:\n",
    "    nearest_mean(train, i)"
   ]
  },
  {
   "cell_type": "code",
   "execution_count": null,
   "metadata": {},
   "outputs": [],
   "source": [
    "for i in [\"symmetry\", \"compactness\", \"all\"]:\n",
    "    nearest_mean(test, i)"
   ]
  },
  {
   "cell_type": "code",
   "execution_count": null,
   "metadata": {},
   "outputs": [],
   "source": [
    "for i in [\"symmetry\", \"compactness\", \"all\"]:\n",
    "    nearest_mean(test, i)"
   ]
  },
  {
   "cell_type": "markdown",
   "metadata": {},
   "source": [
    "## Nearest neighbour classifier"
   ]
  },
  {
   "cell_type": "code",
   "execution_count": null,
   "metadata": {},
   "outputs": [],
   "source": [
    "def nearest_neighbour(data, feature):\n",
    "    #calculate distance to all other points and choose the closest one. This becomes the diagnosis\n",
    "    \n",
    "    v = (list(train[\"compactness\"]), list(train[\"symmetry\"]), list(train[\"diagnosis_sum\"]))\n",
    "    \n",
    "    ids = list(data[\"image_id\"])\n",
    "    \n",
    "    #Keep track of errors\n",
    "    correct = 0\n",
    "    fails = 0\n",
    "    \n",
    "    correct_cancer = 0\n",
    "    correct_healthy = 0\n",
    "    \n",
    "    total = len(data[\"image_id\"])\n",
    "    \n",
    "    for idd in ids:\n",
    "        dist = []\n",
    "\n",
    "        C = float(data[\"compactness\"][data[\"image_id\"] == idd])\n",
    "        sym = float(data[\"symmetry\"][data[\"image_id\"] == idd])\n",
    "        \n",
    "        di = str(data[\"diagnosis_sum\"][data[\"image_id\"] == idd]).split()[1:-4]\n",
    "        try:\n",
    "            diagnosis = di[0]+\" \"+di[1]\n",
    "        except:\n",
    "            diagnosis = di[0]\n",
    "        \n",
    "        #Calculate the distance to all the other points in the training set\n",
    "        if feature == \"all\":\n",
    "            for comp, symmetry, diag in zip(v[0], v[1], v[2]):\n",
    "                dist.append((math.sqrt((comp - C)**2+(symmetry - sym)**2), diag))\n",
    "        label = min(dist)[1]\n",
    "        \n",
    "        #Check if our labeling is correct\n",
    "        if label == diagnosis:\n",
    "            correct += 1\n",
    "            if label == \"cancerous\":\n",
    "                correct_cancer += 1\n",
    "            else:\n",
    "                correct_healthy += 1\n",
    "            \n",
    "        else:\n",
    "            fails += 1\n",
    "    \n",
    "    print(feature, \"correct \", correct/total)\n",
    "    print(feature, \"fails:\", fails/total)\n",
    "    print(correct_cancer, correct_cancer/len(data[data[\"melanoma\"] == 1.0]), correct_healthy, correct_healthy/len(data[data[\"melanoma\"] == 0.0]))"
   ]
  },
  {
   "cell_type": "code",
   "execution_count": null,
   "metadata": {},
   "outputs": [],
   "source": [
    "nearest_neighbour(test, \"all\")"
   ]
  },
  {
   "cell_type": "markdown",
   "metadata": {},
   "source": [
    "# LOADING EVEN MORE DATA"
   ]
  },
  {
   "cell_type": "code",
   "execution_count": null,
   "metadata": {},
   "outputs": [],
   "source": [
    "#local path to the 2017 data set\n",
    "path_bias = \"../../../../../../documents/bias/images/{}\"\n",
    "#path_segment = \"../../../../../../documents/2017/ISIC-2017_Training_Part1_GroundTruth/ISIC-2017_Training_Part1_GroundTruth/\"\n",
    "\n",
    "bias_table = pd.read_csv(\"../../../../../../documents/bias/metadata.csv\")"
   ]
  },
  {
   "cell_type": "code",
   "execution_count": null,
   "metadata": {},
   "outputs": [],
   "source": [
    "bias_table"
   ]
  },
  {
   "cell_type": "code",
   "execution_count": null,
   "metadata": {},
   "outputs": [],
   "source": [
    "print(len(np.unique(bias_table[\"patient_id\"])))\n",
    "print(bias_table.columns)\n",
    "for i in range(1,7):\n",
    "    print(i, len(bias_table[\"fitspatrick\"][bias_table[\"fitspatrick\"] == i]))"
   ]
  },
  {
   "cell_type": "code",
   "execution_count": null,
   "metadata": {},
   "outputs": [],
   "source": [
    "len(bias_table[\"img_id\"][bias_table[\"diagnostic\"] == \"NEV\"])"
   ]
  },
  {
   "cell_type": "code",
   "execution_count": null,
   "metadata": {},
   "outputs": [],
   "source": [
    "\n",
    "imgg = plt.imread(path_bias.format(\"PAT_792_4351_858.png\"))\n",
    "plt.imshow(imgg)"
   ]
  },
  {
   "cell_type": "code",
   "execution_count": null,
   "metadata": {},
   "outputs": [],
   "source": []
  },
  {
   "cell_type": "code",
   "execution_count": null,
   "metadata": {},
   "outputs": [],
   "source": [
    "def check_id(id_list, path_picture):\n",
    "    missing_picture = 0\n",
    "    missing_segment = 0\n",
    "    for idd in id_list:\n",
    "        try:\n",
    "            np.fromfile(path_picture.format(idd))\n",
    "        except:\n",
    "            missing_picture += 1\n",
    "        \n",
    "        #try:\n",
    "        #    np.fromfile(path_segment.format(idd))\n",
    "        #except:\n",
    "        #    missing_segment += 1\n",
    "            \n",
    "    return (\"Missing_pictures:\", missing_picture, \"Missing segments\", missing_segment)"
   ]
  },
  {
   "cell_type": "code",
   "execution_count": null,
   "metadata": {},
   "outputs": [],
   "source": [
    "check_id(bias_table[\"img_id\"], path_bias)"
   ]
  },
  {
   "cell_type": "markdown",
   "metadata": {},
   "source": [
    "# Open question: running the models with keratosis pictures"
   ]
  },
  {
   "cell_type": "code",
   "execution_count": null,
   "metadata": {},
   "outputs": [],
   "source": [
    "table_2017\n",
    "#table_keratosis = table_2017[table_2017[\"seborrheic_keratosis\"] == 1.0]\n",
    "#table_keratosis = table_keratosis.drop(\"melanoma\", axis = 1)\n",
    "#table_keratosis"
   ]
  },
  {
   "cell_type": "code",
   "execution_count": null,
   "metadata": {},
   "outputs": [],
   "source": [
    "np.std([1,0.5,0.75,1,1,0.5,0.5,0.75])\n",
    "#np.std([1,1,1,1])"
   ]
  },
  {
   "cell_type": "code",
   "execution_count": null,
   "metadata": {},
   "outputs": [],
   "source": []
  },
  {
   "cell_type": "code",
   "execution_count": null,
   "metadata": {},
   "outputs": [],
   "source": []
  },
  {
   "cell_type": "code",
   "execution_count": null,
   "metadata": {},
   "outputs": [],
   "source": []
  }
 ],
 "metadata": {
  "kernelspec": {
   "display_name": "Python 3",
   "language": "python",
   "name": "python3"
  },
  "language_info": {
   "codemirror_mode": {
    "name": "ipython",
    "version": 3
   },
   "file_extension": ".py",
   "mimetype": "text/x-python",
   "name": "python",
   "nbconvert_exporter": "python",
   "pygments_lexer": "ipython3",
   "version": "3.8.3"
  },
  "latex_envs": {
   "LaTeX_envs_menu_present": true,
   "autoclose": false,
   "autocomplete": true,
   "bibliofile": "biblio.bib",
   "cite_by": "apalike",
   "current_citInitial": 1,
   "eqLabelWithNumbers": true,
   "eqNumInitial": 1,
   "hotkeys": {
    "equation": "Ctrl-E",
    "itemize": "Ctrl-I"
   },
   "labels_anchors": false,
   "latex_user_defs": false,
   "report_style_numbering": false,
   "user_envs_cfg": false
  },
  "toc": {
   "base_numbering": 1,
   "nav_menu": {},
   "number_sections": true,
   "sideBar": true,
   "skip_h1_title": false,
   "title_cell": "Table of Contents",
   "title_sidebar": "Contents",
   "toc_cell": false,
   "toc_position": {},
   "toc_section_display": true,
   "toc_window_display": false
  }
 },
 "nbformat": 4,
 "nbformat_minor": 5
}
